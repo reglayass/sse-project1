{
 "cells": [
  {
   "cell_type": "code",
   "execution_count": 2,
   "metadata": {},
   "outputs": [],
   "source": [
    "import pandas as pd\n",
    "import seaborn as sns\n",
    "import numpy as np\n",
    "import matplotlib.pyplot as plt\n",
    "from scipy.stats import shapiro, zscore"
   ]
  },
  {
   "cell_type": "code",
   "execution_count": 3,
   "metadata": {},
   "outputs": [],
   "source": [
    "df = pd.read_csv(\"results/flask/results_flask_1.csv\")"
   ]
  },
  {
   "cell_type": "code",
   "execution_count": 6,
   "metadata": {},
   "outputs": [
    {
     "name": "stdout",
     "output_type": "stream",
     "text": [
      "CPU_FREQUENCY_0: W-statistic=1.0, p-value=1.0\n",
      "CPU_FREQUENCY_1: W-statistic=1.0, p-value=1.0\n",
      "CPU_FREQUENCY_2: W-statistic=1.0, p-value=1.0\n",
      "CPU_FREQUENCY_3: W-statistic=1.0, p-value=1.0\n",
      "CPU_FREQUENCY_4: W-statistic=1.0, p-value=1.0\n",
      "CPU_FREQUENCY_5: W-statistic=1.0, p-value=1.0\n",
      "CPU_FREQUENCY_6: W-statistic=1.0, p-value=1.0\n",
      "CPU_FREQUENCY_7: W-statistic=1.0, p-value=1.0\n",
      "DRAM_ENERGY (J): W-statistic=1.0, p-value=1.0\n",
      "GPU0_MEMORY_TOTAL: W-statistic=1.0, p-value=1.0\n",
      "TOTAL_MEMORY: W-statistic=1.0, p-value=1.0\n",
      "TOTAL_SWAP: W-statistic=1.0, p-value=1.0\n"
     ]
    },
    {
     "name": "stderr",
     "output_type": "stream",
     "text": [
      "/home/sofiakonovalova/anaconda3/lib/python3.12/site-packages/scipy/stats/_axis_nan_policy.py:531: UserWarning: scipy.stats.shapiro: Input data has range zero. The results may not be accurate.\n",
      "  res = hypotest_fun_out(*samples, **kwds)\n"
     ]
    }
   ],
   "source": [
    "for col in df.columns:\n",
    "    stat, p_value = shapiro(df[col])\n",
    "    print(f\"{col}: W-statistic={stat}, p-value={p_value}\") if p_value > 0.05 else ''"
   ]
  }
 ],
 "metadata": {
  "kernelspec": {
   "display_name": "base",
   "language": "python",
   "name": "python3"
  },
  "language_info": {
   "codemirror_mode": {
    "name": "ipython",
    "version": 3
   },
   "file_extension": ".py",
   "mimetype": "text/x-python",
   "name": "python",
   "nbconvert_exporter": "python",
   "pygments_lexer": "ipython3",
   "version": "3.12.7"
  }
 },
 "nbformat": 4,
 "nbformat_minor": 2
}
